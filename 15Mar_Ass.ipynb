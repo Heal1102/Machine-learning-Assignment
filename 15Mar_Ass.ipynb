{
 "cells": [
  {
   "cell_type": "markdown",
   "id": "f5af1e3c-cd7a-4b67-a0e5-455773a9ce9c",
   "metadata": {},
   "source": [
    "Q1"
   ]
  },
  {
   "cell_type": "code",
   "execution_count": 1,
   "id": "2923c258-7502-43be-8d1d-cfa1b232d85d",
   "metadata": {},
   "outputs": [],
   "source": [
    "#Q1 . Expalin the following with the help of example :\n",
    "\n",
    "#1. Aritficial Intelligence \n",
    "#2. Machine learning \n",
    "#3. Deep learning "
   ]
  },
  {
   "cell_type": "code",
   "execution_count": 2,
   "id": "8c96faf7-2fc5-4e55-9597-b57154746324",
   "metadata": {},
   "outputs": [],
   "source": [
    "# Artificial Intelligence : it refers to the simulation of human intelligence in machine progrramed \n",
    "# to lean and think like humans.\n",
    "# Example : Consider developing siri like voice assistent ."
   ]
  },
  {
   "cell_type": "code",
   "execution_count": 3,
   "id": "1cc171d9-9504-437c-9a33-256f51143ff3",
   "metadata": {},
   "outputs": [],
   "source": [
    "# Machine learning : It is an subset of AI that involves the use of algorithms and statistical models to enable computers to perform tasks without explicit programming, \n",
    "#learning from data\n",
    "# Example: Consider builing spam filter for your emails."
   ]
  },
  {
   "cell_type": "code",
   "execution_count": 4,
   "id": "fc967d65-26c1-4b5e-aba5-69ec3930eb88",
   "metadata": {},
   "outputs": [],
   "source": [
    "#Deep learning : It refers to a specialized form of machine learning that uses artificial neural networks with multiple layers (deep architectures)\n",
    "#to learn and make decisions.\n",
    "# Example : Consider building Image Recognition System."
   ]
  },
  {
   "cell_type": "markdown",
   "id": "0e3bc9c7-5437-4369-a4b5-3e32f9803387",
   "metadata": {},
   "source": [
    "Q2"
   ]
  },
  {
   "cell_type": "code",
   "execution_count": 5,
   "id": "6689db0f-861c-44e1-87b4-d853a3f732bd",
   "metadata": {},
   "outputs": [],
   "source": [
    "#Q2- What is supKrvisKd lKarnin*? List some examples of supKrvisKd lKarnin*.\n"
   ]
  },
  {
   "cell_type": "code",
   "execution_count": 6,
   "id": "f482fd76-72b0-4dd1-b177-37316b815ebc",
   "metadata": {},
   "outputs": [],
   "source": [
    "#A supervised algorithm is a type of machine learning algorithm trained on labeled data\n",
    "#where the input is paired with corresponding output labels. Examples include linear\n",
    "#regression for predicting numerical values, and decision trees or support vector machines \n",
    "#for classification tasks like spam detection or image recognition."
   ]
  },
  {
   "cell_type": "markdown",
   "id": "3a6245c3-d1f5-46b9-a757-91a8f6e400f8",
   "metadata": {},
   "source": [
    "Q3"
   ]
  },
  {
   "cell_type": "code",
   "execution_count": 7,
   "id": "7f12487f-e9dd-417a-9801-7d779e23c952",
   "metadata": {},
   "outputs": [],
   "source": [
    "#Q3 . what is unsupervised machine learning? List some of the examples ?\n"
   ]
  },
  {
   "cell_type": "code",
   "execution_count": 8,
   "id": "2cc7ab4b-8ddf-400c-bdb9-ba9f291d9e1e",
   "metadata": {},
   "outputs": [],
   "source": [
    "#Unsupervised learning algorithms analyze and find patterns in unlabeled data without \n",
    "#predefined outputs. Examples include K-means clustering for grouping similar data points,\n",
    "#hierarchical clustering for creating tree-like structures, and Principal Component \n",
    "#Analysis (PCA) for dimensionality reduction by capturing essential features in the data."
   ]
  },
  {
   "cell_type": "markdown",
   "id": "53c22fa7-4d33-46e5-b7d8-8d9aa0d66014",
   "metadata": {},
   "source": [
    "Q4"
   ]
  },
  {
   "cell_type": "code",
   "execution_count": 9,
   "id": "de12aa6e-5943-4c24-aac8-f6700a4fdca2",
   "metadata": {},
   "outputs": [],
   "source": [
    "#Q4- What is the difference between AI, ML, DL, and DS?"
   ]
  },
  {
   "cell_type": "code",
   "execution_count": 10,
   "id": "4f2873f6-34b2-4e7b-9a2c-139d01774cf5",
   "metadata": {},
   "outputs": [],
   "source": [
    "#Artificial Intelligence (AI): A broad field aiming to create machines capable of intelligent \n",
    "#behavior, encompassing problem-solving, learning, perception, and language understanding.\n",
    "\n",
    "#Machine Learning (ML): A subset of AI, ML focuses on developing algorithms that \n",
    "#enable machines to learn from data and make predictions or decisions without explicit programming.\n",
    "\n",
    "#Deep Learning (DL): A specialized form of ML using artificial neural networks with\n",
    "#multiple layers to learn hierarchical representations of data. It excels in tasks \n",
    "#like image and speech recognition.\n",
    "\n",
    "#Data Science (DS): An interdisciplinary field involving techniques and methods for extracting\n",
    "#insights and knowledge from data. It includes processes like data cleaning, analysis, \n",
    "#visualization, and machine learning application for informed decision-making."
   ]
  },
  {
   "cell_type": "markdown",
   "id": "a3fb67f3-4eb0-4c0d-b302-df497a385b74",
   "metadata": {},
   "source": [
    "Q5"
   ]
  },
  {
   "cell_type": "code",
   "execution_count": 11,
   "id": "d241be08-c166-4bd4-aa36-c97613153d1d",
   "metadata": {},
   "outputs": [],
   "source": [
    "#Q5. write difference between supervised ,unsupervisedd and semi supervised learning?"
   ]
  },
  {
   "cell_type": "code",
   "execution_count": 12,
   "id": "6e6a6377-d491-485a-b911-e3c35cebb526",
   "metadata": {},
   "outputs": [],
   "source": [
    "#In supervised learning, models are trained on labeled data, where input-output pairs guide\n",
    "#learning.\n",
    "#Unsupervised learning involves unlabeled data, and algorithms identify patterns or structures\n",
    "#independently.\n",
    "#Semi-supervised learning combines both, utilizing a mix of labeled and unlabeled data for training.\n",
    "\n",
    "#While supervised learning is precise but data-intensive,\n",
    "#unsupervised learning discovers hidden patterns.\n",
    "#Semi-supervised learning aims to enhance performance by leveraging limited labeled data with\n",
    "#the abundance of unlabeled data, offering a balance between precision and scalability. \n"
   ]
  },
  {
   "cell_type": "markdown",
   "id": "8fee962b-f7d0-4f37-9235-1d5205d7cd23",
   "metadata": {},
   "source": [
    "Q6"
   ]
  },
  {
   "cell_type": "code",
   "execution_count": 13,
   "id": "c0aa558e-576c-4e5d-b9d6-97a46f029ac6",
   "metadata": {},
   "outputs": [],
   "source": [
    "#Q6 What is train test validation split ? give importance ."
   ]
  },
  {
   "cell_type": "code",
   "execution_count": 14,
   "id": "fa289cd7-9b71-4c64-9169-2642bafb076f",
   "metadata": {},
   "outputs": [],
   "source": [
    "# Whenever we clean our data for futher modelling  the  we used to aplit\n",
    "#our clean data in three parts Train datasets, Test Datasets, Validation dataset\n",
    "# Train Dataset are the data used to train our model .\n",
    "# validation datasets is used to hypertune our model .\n",
    "# while test dataset is used to  test the accuracy of out model ."
   ]
  },
  {
   "cell_type": "markdown",
   "id": "6ee39b98-3a91-425b-9c26-6cf92c532cb8",
   "metadata": {},
   "source": [
    "Q7"
   ]
  },
  {
   "cell_type": "code",
   "execution_count": 15,
   "id": "1e8d3080-7b7d-425d-b481-1391c3e6be81",
   "metadata": {},
   "outputs": [],
   "source": [
    "#Q7 How can supervised learning is used in anomly detection ?"
   ]
  },
  {
   "cell_type": "code",
   "execution_count": 16,
   "id": "9e45f0d4-ba2a-4901-8602-6ed4345c4473",
   "metadata": {},
   "outputs": [],
   "source": [
    "# Unsupervised learning is valuable in anomaly detection by allowing algorithms to identify\n",
    "#patterns without explicit labels. In this context, normal behavior is learned from unlabeled\n",
    "#data, and anomalies, or deviations from the norm, can be detected. Clustering methods,\n",
    "#like K-means, can group similar data, helping detect outliers. Autoencoders, a type of neural\n",
    "#network in unsupervised learning, reconstruct input data, and anomalies result in poor \n",
    "#reconstructions. This approach enables the model to recognize irregularities without prior\n",
    "#examples.\n",
    "#Unsupervised learning in anomaly detection is particularly useful when labeled anomalous \n",
    "#data is scarce, offering adaptability to diverse and evolving patterns in complex datasets.\n"
   ]
  },
  {
   "cell_type": "markdown",
   "id": "9e077ae4-0304-44d9-8af2-a6c93647d8ed",
   "metadata": {},
   "source": [
    "Q8."
   ]
  },
  {
   "cell_type": "code",
   "execution_count": 17,
   "id": "42e25497-1473-43f0-b1e4-3b40e165abee",
   "metadata": {},
   "outputs": [],
   "source": [
    "#Q8 List the name of some commonly used supervised and unsupervised algorithm."
   ]
  },
  {
   "cell_type": "code",
   "execution_count": null,
   "id": "e306ed58-ec19-4699-a202-dfd76172c9f8",
   "metadata": {},
   "outputs": [],
   "source": [
    "# Supervised Machine learning algorithms:\n",
    "1.Linear Regression\n",
    "2.Decision Trees\n",
    "3.Random Forest\n",
    "4.Support Vector Machines (SVM)\n",
    "5.k-Nearest Neighbors (k-NN)\n",
    "6.Naive Bayes\n",
    "#Unsupervised machine learning algorithm :\n",
    "1.K-Means Clustering\n",
    "2.Hierarchical Clustering\n",
    "DBSCAN (Density-Based Spatial Clustering of Applications with Noise)\n",
    "Principal Component Analysis (PCA)\n",
    "t-Distributed Stochastic Neighbor Embedding (t-SNE)"
   ]
  }
 ],
 "metadata": {
  "kernelspec": {
   "display_name": "Python 3 (ipykernel)",
   "language": "python",
   "name": "python3"
  },
  "language_info": {
   "codemirror_mode": {
    "name": "ipython",
    "version": 3
   },
   "file_extension": ".py",
   "mimetype": "text/x-python",
   "name": "python",
   "nbconvert_exporter": "python",
   "pygments_lexer": "ipython3",
   "version": "3.10.8"
  }
 },
 "nbformat": 4,
 "nbformat_minor": 5
}
